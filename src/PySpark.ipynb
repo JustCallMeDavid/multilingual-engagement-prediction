{
 "cells": [
  {
   "cell_type": "markdown",
   "metadata": {},
   "source": [
    "# PySpark\n",
    "\n",
    "Script was run on the TU Wien LBD cluster with the following  hardware setup:\n",
    "    two XeonE5-2650v4 CPUs with 24 cores (total of 48 cores per node, 864 total worker cores)\n",
    "    256GB RAM (total of 4.5TB memory available to worker nodes of the whole cluster)\n",
    "    four hard disks, each with a capacity of 4TB (total of 16TB per node, 288TB total for worker nodes)\n",
    "\n",
    "It contains code to create samples as well as visualizations of the dataset."
   ]
  },
  {
   "cell_type": "code",
   "execution_count": 1,
   "metadata": {},
   "outputs": [],
   "source": [
    "# PySpark import\n",
    "from pyspark import SparkContext, SparkConf\n",
    "from pyspark.sql import SparkSession\n",
    "from pyspark.sql.types import *\n",
    "import pyarrow.parquet as pq # https://sparkbyexamples.com/spark/spark-read-write-dataframe-parquet-example/\n",
    "from pyspark.sql.functions import udf, to_date\n",
    "from pyspark.sql.types import IntegerType\n",
    "from pyspark.sql.functions import udf\n"
   ]
  },
  {
   "cell_type": "code",
   "execution_count": 2,
   "metadata": {},
   "outputs": [
    {
     "name": "stderr",
     "output_type": "stream",
     "text": [
      "I0324 11:38:33.608275 139730784212800 file_utils.py:41] PyTorch version 1.0.1.post2 available.\n"
     ]
    }
   ],
   "source": [
    "# Other imports\n",
    "import os\n",
    "import torch\n",
    "import importlib.util\n",
    "import numpy as np\n",
    "from transformers import BertTokenizer, BertModel, BertForMaskedLM\n",
    "import pandas as pd\n",
    "import seaborn\n",
    "import matplotlib.pyplot as plt"
   ]
  },
  {
   "cell_type": "code",
   "execution_count": 3,
   "metadata": {},
   "outputs": [
    {
     "data": {
      "text/plain": [
       "'2.4.0-cdh6.3.2'"
      ]
     },
     "execution_count": 3,
     "metadata": {},
     "output_type": "execute_result"
    }
   ],
   "source": [
    "# change the second argument below for more memory\n",
    "conf = (SparkConf().set(\"spark.driver.maxResultSize\", \"2g\"))\n",
    "sc = SparkContext(appName = \"master_thesis_1526534\", conf = conf)\n",
    "spark = SparkSession.builder.getOrCreate()\n",
    "spark.conf.set(\"spark.sql.broadcastTimeout\", 900)\n",
    "\n",
    "# change the second part below for more memory\n",
    "pyspark_submit_args = ' --driver-memory ' + '2g' + ' pyspark-shell'\n",
    "os.environ[\"PYSPARK_SUBMIT_ARGS\"] = pyspark_submit_args\n",
    "\n",
    "spark.version"
   ]
  },
  {
   "cell_type": "markdown",
   "metadata": {},
   "source": [
    "## Import Data"
   ]
  },
  {
   "cell_type": "code",
   "execution_count": 4,
   "metadata": {},
   "outputs": [],
   "source": [
    "# General setings\n",
    "\n",
    "HDFS_DATAFOLDER = \"master_data_hadoop\"\n",
    "#USE_FULL_TRAINING = False"
   ]
  },
  {
   "cell_type": "code",
   "execution_count": 5,
   "metadata": {},
   "outputs": [],
   "source": [
    "VAL_LABELS = [\"text_tokens\", \"hashtags\", \"tweet_id\", \"present_media\", \"present_links\", \"present_domains\",\\\n",
    "                \"tweet_type\",\"language\", \"tweet_timestamp\", \"enaged_with_user_id\", \"engaged_with_user_follower_count\",\\\n",
    "               \"engaged_with_user_following_count\", \"engaged_with_user_is_verified\", \"engaged_with_user_account_creation\",\\\n",
    "               \"enaging_user_id\", \"enaging_user_follower_count\", \"enaging_user_following_count\", \"enaging_user_is_verified\",\\\n",
    "               \"enaging_user_account_creation\", \"engagee_follows_engager\"]\n",
    "TRAIN_LABELS = VAL_LABELS + [\"reply_timestamp\" ,\"retweet_timestamp\" ,\"retweet_with_comment_timestamp\", \"like_timestamp\"]\n",
    "\n",
    "training = spark.read.parquet(os.path.join(HDFS_DATAFOLDER, \"training_nh.parquet\")).toDF(\"text_tokens\", \"hashtags\", \"tweet_id\", \"present_media\", \"present_links\", \"present_domains\",\\\n",
    "                \"tweet_type\",\"language\", \"tweet_timestamp\", \"enaged_with_user_id\", \"engaged_with_user_follower_count\",\\\n",
    "               \"engaged_with_user_following_count\", \"engaged_with_user_is_verified\", \"engaged_with_user_account_creation\",\\\n",
    "               \"enaging_user_id\", \"enaging_user_follower_count\", \"enaging_user_following_count\", \"enaging_user_is_verified\",\\\n",
    "               \"enaging_user_account_creation\", \"engagee_follows_engager\", \"reply_timestamp\" ,\"retweet_timestamp\" ,\"retweet_with_comment_timestamp\", \"like_timestamp\")\n",
    "val = spark.read.parquet(os.path.join(HDFS_DATAFOLDER, \"val_nh.parquet\")).toDF(\"text_tokens\", \"hashtags\", \"tweet_id\", \"present_media\", \"present_links\", \"present_domains\",\\\n",
    "                \"tweet_type\",\"language\", \"tweet_timestamp\", \"enaged_with_user_id\", \"engaged_with_user_follower_count\",\\\n",
    "               \"engaged_with_user_following_count\", \"engaged_with_user_is_verified\", \"engaged_with_user_account_creation\",\\\n",
    "               \"enaging_user_id\", \"enaging_user_follower_count\", \"enaging_user_following_count\", \"enaging_user_is_verified\",\\\n",
    "               \"enaging_user_account_creation\", \"engagee_follows_engager\",\"reply_timestamp\" ,\"retweet_timestamp\" ,\"retweet_with_comment_timestamp\", \"like_timestamp\")\n",
    "test = spark.read.parquet(os.path.join(HDFS_DATAFOLDER, \"test_nh.parquet\")).toDF(\"text_tokens\", \"hashtags\", \"tweet_id\", \"present_media\", \"present_links\", \"present_domains\",\\\n",
    "                \"tweet_type\",\"language\", \"tweet_timestamp\", \"enaged_with_user_id\", \"engaged_with_user_follower_count\",\\\n",
    "               \"engaged_with_user_following_count\", \"engaged_with_user_is_verified\", \"engaged_with_user_account_creation\",\\\n",
    "               \"enaging_user_id\", \"enaging_user_follower_count\", \"enaging_user_following_count\", \"enaging_user_is_verified\",\\\n",
    "               \"enaging_user_account_creation\", \"engagee_follows_engager\",\"reply_timestamp\" ,\"retweet_timestamp\" ,\"retweet_with_comment_timestamp\", \"like_timestamp\")"
   ]
  },
  {
   "cell_type": "code",
   "execution_count": 6,
   "metadata": {},
   "outputs": [
    {
     "data": {
      "text/plain": [
       "DataFrame[text_tokens: string, hashtags: string, tweet_id: string, present_media: string, present_links: string, present_domains: string, tweet_type: string, language: string, tweet_timestamp: string, enaged_with_user_id: string, engaged_with_user_follower_count: string, engaged_with_user_following_count: string, engaged_with_user_is_verified: string, engaged_with_user_account_creation: string, enaging_user_id: string, enaging_user_follower_count: string, enaging_user_following_count: string, enaging_user_is_verified: string, enaging_user_account_creation: string, engagee_follows_engager: string, reply_timestamp: string, retweet_timestamp: string, retweet_with_comment_timestamp: string, like_timestamp: string]"
      ]
     },
     "execution_count": 6,
     "metadata": {},
     "output_type": "execute_result"
    }
   ],
   "source": [
    "training"
   ]
  },
  {
   "cell_type": "code",
   "execution_count": 7,
   "metadata": {},
   "outputs": [
    {
     "data": {
      "text/plain": [
       "DataFrame[text_tokens: string, hashtags: string, tweet_id: string, present_media: string, present_links: string, present_domains: string, tweet_type: string, language: string, tweet_timestamp: string, enaged_with_user_id: string, engaged_with_user_follower_count: string, engaged_with_user_following_count: string, engaged_with_user_is_verified: string, engaged_with_user_account_creation: string, enaging_user_id: string, enaging_user_follower_count: string, enaging_user_following_count: string, enaging_user_is_verified: string, enaging_user_account_creation: string, engagee_follows_engager: string, reply_timestamp: string, retweet_timestamp: string, retweet_with_comment_timestamp: string, like_timestamp: string]"
      ]
     },
     "execution_count": 7,
     "metadata": {},
     "output_type": "execute_result"
    }
   ],
   "source": [
    "val"
   ]
  },
  {
   "cell_type": "code",
   "execution_count": 8,
   "metadata": {},
   "outputs": [
    {
     "data": {
      "text/plain": [
       "DataFrame[text_tokens: string, hashtags: string, tweet_id: string, present_media: string, present_links: string, present_domains: string, tweet_type: string, language: string, tweet_timestamp: string, enaged_with_user_id: string, engaged_with_user_follower_count: string, engaged_with_user_following_count: string, engaged_with_user_is_verified: string, engaged_with_user_account_creation: string, enaging_user_id: string, enaging_user_follower_count: string, enaging_user_following_count: string, enaging_user_is_verified: string, enaging_user_account_creation: string, engagee_follows_engager: string, reply_timestamp: string, retweet_timestamp: string, retweet_with_comment_timestamp: string, like_timestamp: string]"
      ]
     },
     "execution_count": 8,
     "metadata": {},
     "output_type": "execute_result"
    }
   ],
   "source": [
    "test"
   ]
  },
  {
   "cell_type": "markdown",
   "metadata": {},
   "source": [
    "## Tokenisation"
   ]
  },
  {
   "cell_type": "code",
   "execution_count": 17,
   "metadata": {},
   "outputs": [
    {
     "name": "stderr",
     "output_type": "stream",
     "text": [
      "I0324 11:53:39.582789 139730784212800 tokenization_utils.py:504] loading file https://s3.amazonaws.com/models.huggingface.co/bert/bert-base-multilingual-cased-vocab.txt from cache at /home/dic20/e1526534/.cache/torch/transformers/96435fa287fbf7e469185f1062386e05a075cadbf6838b74da22bf64b080bc32.99bcd55fc66f4f3360bc49ba472b940b8dcf223ea6a345deb969d607ca900729\n",
      "I0324 11:53:40.226729 139730784212800 configuration_utils.py:283] loading configuration file https://s3.amazonaws.com/models.huggingface.co/bert/bert-base-multilingual-cased-config.json from cache at /home/dic20/e1526534/.cache/torch/transformers/45629519f3117b89d89fd9c740073d8e4c1f0a70f9842476185100a8afe715d1.65df3cef028a0c91a7b059e4c404a975ebe6843c71267b67019c0e9cfa8a88f0\n",
      "I0324 11:53:40.228214 139730784212800 configuration_utils.py:319] Model config BertConfig {\n",
      "  \"_num_labels\": 2,\n",
      "  \"architectures\": [\n",
      "    \"BertForMaskedLM\"\n",
      "  ],\n",
      "  \"attention_probs_dropout_prob\": 0.1,\n",
      "  \"bad_words_ids\": null,\n",
      "  \"bos_token_id\": null,\n",
      "  \"decoder_start_token_id\": null,\n",
      "  \"directionality\": \"bidi\",\n",
      "  \"do_sample\": false,\n",
      "  \"early_stopping\": false,\n",
      "  \"eos_token_id\": null,\n",
      "  \"finetuning_task\": null,\n",
      "  \"hidden_act\": \"gelu\",\n",
      "  \"hidden_dropout_prob\": 0.1,\n",
      "  \"hidden_size\": 768,\n",
      "  \"id2label\": {\n",
      "    \"0\": \"LABEL_0\",\n",
      "    \"1\": \"LABEL_1\"\n",
      "  },\n",
      "  \"initializer_range\": 0.02,\n",
      "  \"intermediate_size\": 3072,\n",
      "  \"is_decoder\": false,\n",
      "  \"is_encoder_decoder\": false,\n",
      "  \"label2id\": {\n",
      "    \"LABEL_0\": 0,\n",
      "    \"LABEL_1\": 1\n",
      "  },\n",
      "  \"layer_norm_eps\": 1e-12,\n",
      "  \"length_penalty\": 1.0,\n",
      "  \"max_length\": 20,\n",
      "  \"max_position_embeddings\": 512,\n",
      "  \"min_length\": 0,\n",
      "  \"model_type\": \"bert\",\n",
      "  \"no_repeat_ngram_size\": 0,\n",
      "  \"num_attention_heads\": 12,\n",
      "  \"num_beams\": 1,\n",
      "  \"num_hidden_layers\": 12,\n",
      "  \"num_return_sequences\": 1,\n",
      "  \"output_attentions\": false,\n",
      "  \"output_hidden_states\": false,\n",
      "  \"output_past\": true,\n",
      "  \"pad_token_id\": 0,\n",
      "  \"pooler_fc_size\": 768,\n",
      "  \"pooler_num_attention_heads\": 12,\n",
      "  \"pooler_num_fc_layers\": 3,\n",
      "  \"pooler_size_per_head\": 128,\n",
      "  \"pooler_type\": \"first_token_transform\",\n",
      "  \"prefix\": null,\n",
      "  \"pruned_heads\": {},\n",
      "  \"repetition_penalty\": 1.0,\n",
      "  \"task_specific_params\": null,\n",
      "  \"temperature\": 1.0,\n",
      "  \"top_k\": 50,\n",
      "  \"top_p\": 1.0,\n",
      "  \"torchscript\": false,\n",
      "  \"type_vocab_size\": 2,\n",
      "  \"use_bfloat16\": false,\n",
      "  \"vocab_size\": 119547\n",
      "}\n",
      "\n",
      "I0324 11:53:40.642730 139730784212800 modeling_utils.py:507] loading weights file https://s3.amazonaws.com/models.huggingface.co/bert/bert-base-multilingual-cased-pytorch_model.bin from cache at /home/dic20/e1526534/.cache/torch/transformers/5b5b80054cd2c95a946a8e0ce0b93f56326dff9fbda6a6c3e02de3c91c918342.7131dcb754361639a7d5526985f880879c9bfd144b65a0bf50590bddb7de9059\n"
     ]
    },
    {
     "data": {
      "text/plain": [
       "DataFrame[decoded_text_tokens: string, text_tokens: string]"
      ]
     },
     "execution_count": 17,
     "metadata": {},
     "output_type": "execute_result"
    }
   ],
   "source": [
    "tokenizer = BertTokenizer.from_pretrained('bert-base-multilingual-cased', do_lower_case=False)\n",
    "model = BertModel.from_pretrained('bert-base-multilingual-cased')\n",
    "decoder_udf = udf(lambda text_tokens: \"\".join(tokenizer.convert_tokens_to_string(tokenizer.convert_ids_to_tokens(text_tokens.split('\\t')))), StringType())\n",
    "\n",
    "def add_decoded_text_column(df):\n",
    "    df_new = df.withColumn(\"decoded_text_tokens\", decoder_udf(df[\"text_tokens\"]))\n",
    "    return df_new\n",
    "\n",
    "add_decoded_text_column(training).select(\"decoded_text_tokens\", \"text_tokens\")"
   ]
  },
  {
   "cell_type": "code",
   "execution_count": 10,
   "metadata": {},
   "outputs": [
    {
     "data": {
      "text/plain": [
       "DataFrame[decoded_text_tokens: string, like_timestamp: string, reply_timestamp: string, retweet_timestamp: string, retweet_with_comment_timestamp: string]"
      ]
     },
     "execution_count": 10,
     "metadata": {},
     "output_type": "execute_result"
    }
   ],
   "source": [
    "add_decoded_text_column(val).select(\"decoded_text_tokens\",'like_timestamp','reply_timestamp','retweet_timestamp','retweet_with_comment_timestamp')"
   ]
  },
  {
   "cell_type": "code",
   "execution_count": 11,
   "metadata": {},
   "outputs": [
    {
     "data": {
      "text/plain": [
       "DataFrame[decoded_text_tokens: string, text_tokens: string]"
      ]
     },
     "execution_count": 11,
     "metadata": {},
     "output_type": "execute_result"
    }
   ],
   "source": [
    "add_decoded_text_column(test).select(\"decoded_text_tokens\", \"text_tokens\")"
   ]
  },
  {
   "cell_type": "code",
   "execution_count": 12,
   "metadata": {},
   "outputs": [
    {
     "data": {
      "text/plain": [
       "['text_tokens',\n",
       " 'hashtags',\n",
       " 'tweet_id',\n",
       " 'present_media',\n",
       " 'present_links',\n",
       " 'present_domains',\n",
       " 'tweet_type',\n",
       " 'language',\n",
       " 'tweet_timestamp',\n",
       " 'enaged_with_user_id',\n",
       " 'engaged_with_user_follower_count',\n",
       " 'engaged_with_user_following_count',\n",
       " 'engaged_with_user_is_verified',\n",
       " 'engaged_with_user_account_creation',\n",
       " 'enaging_user_id',\n",
       " 'enaging_user_follower_count',\n",
       " 'enaging_user_following_count',\n",
       " 'enaging_user_is_verified',\n",
       " 'enaging_user_account_creation',\n",
       " 'engagee_follows_engager',\n",
       " 'reply_timestamp',\n",
       " 'retweet_timestamp',\n",
       " 'retweet_with_comment_timestamp',\n",
       " 'like_timestamp']"
      ]
     },
     "execution_count": 12,
     "metadata": {},
     "output_type": "execute_result"
    }
   ],
   "source": [
    "training.schema.names\n"
   ]
  },
  {
   "cell_type": "markdown",
   "metadata": {},
   "source": [
    "## Sampling\n",
    "\n",
    "\n",
    "We will create all samples randomly from the full train set.\n"
   ]
  },
  {
   "cell_type": "code",
   "execution_count": 13,
   "metadata": {},
   "outputs": [],
   "source": [
    "#NOTE: none of the samples may be combined among each other, \n",
    "\n",
    "#sample_2pct=training.sample(withReplacement=False,fraction=0.02,seed=42)\n",
    "#sample_5pct=training.sample(withReplacement=False,fraction=0.05,seed=42)\n",
    "\n",
    "trainsample_1pct=training.sample(withReplacement=False,fraction=0.01,seed=42)\n",
    "trainsample_10pct=training.sample(withReplacement=False,fraction=0.10,seed=42)\n",
    "\n",
    "valsample_1pct=val.sample(withReplacement=False,fraction=0.01,seed=42)\n",
    "valsample_10pct=val.sample(withReplacement=False,fraction=0.10,seed=42)\n",
    "\n",
    "testsample_1pct=test.sample(withReplacement=False,fraction=0.01,seed=42)\n",
    "testsample_10pct=test.sample(withReplacement=False,fraction=0.10,seed=42)"
   ]
  },
  {
   "cell_type": "code",
   "execution_count": null,
   "metadata": {},
   "outputs": [],
   "source": [
    "#make sure that the sampled dataframe is the right size, 1% is about 1.4 million tweets\n",
    "print(trainsample_1pct.count(),trainsample_10pct.count())\n",
    "print(valsample_1pct.count(),valsample_10pct.count())\n",
    "print(testsample_1pct.count(),testsample_10pct.count())"
   ]
  },
  {
   "cell_type": "code",
   "execution_count": null,
   "metadata": {},
   "outputs": [],
   "source": [
    "#if the size was right, save the dataframe to file\n",
    "\n",
    "trainsample_1pct.repartition(1).write.format(\"com.databricks.spark.csv\").option('sep','\\x01').option('emptyValue',None).option(\"header\", \"false\").save(\"sample_1pct.tsv\")\n",
    "#sample_2pct.repartition(1).write.format(\"com.databricks.spark.csv\").option('sep','\\x01').option('emptyValue',None).option(\"header\", \"false\").save(\"sample_2pct.tsv\")\n",
    "#sample_5pct.repartition(1).write.format(\"com.databricks.spark.csv\").option('sep','\\x01').option('emptyValue',None).option(\"header\", \"false\").save(\"sample_5pct.tsv\")\n",
    "trainsample_10pct.repartition(1).write.format(\"com.databricks.spark.csv\").option('sep','\\x01').option('emptyValue',None).option(\"header\", \"false\").save(\"sample_10pct.tsv\")\n",
    "\n",
    "#does not work well as it writes the data in chunks as it is stored on hdfs, this is undesirable as it would have to be merged together manually\n",
    "#sample_1pct.write.csv('generated_samples/sample_1pct.tsv')\n",
    "#sample_2pct.write.csv('generated_samples/sample_2pct.tsv')\n",
    "#sample_5pct.write.csv('generated_samples/sample_5pct.tsv')\n",
    "#sample_10pct.write.csv('generated_samples/sample_10pct.tsv')\n",
    "print('Samples saved.')"
   ]
  },
  {
   "cell_type": "code",
   "execution_count": null,
   "metadata": {},
   "outputs": [],
   "source": [
    "#the files created are on hdfs, copy them to disc for them to be downloaded\n",
    "!hadoop fs -copyToLocal sample_1pct.tsv sample_1pct.tsv\n",
    "!hadoop fs -copyToLocal sample_2pct.tsv sample_2pct.tsv\n",
    "!hadoop fs -copyToLocal sample_5pct.tsv sample_5pct.tsv\n",
    "!hadoop fs -copyToLocal sample_10pct.tsv sample_10pct.tsv\n"
   ]
  },
  {
   "cell_type": "code",
   "execution_count": null,
   "metadata": {},
   "outputs": [],
   "source": [
    "!ls"
   ]
  },
  {
   "cell_type": "code",
   "execution_count": null,
   "metadata": {},
   "outputs": [],
   "source": [
    "#cleanup hadoop files\n",
    "\n",
    "#do not clean up if still needed by dataset statistics\n",
    "\n",
    "#!hadoop fs -rm -r -f sample_1pct.tsv\n",
    "#!hadoop fs -rm -r -f sample_2pct.tsv\n",
    "#!hadoop fs -rm -r -f sample_5pct.tsv\n",
    "#!hadoop fs -rm -r -f sample_10pct.tsv"
   ]
  },
  {
   "cell_type": "code",
   "execution_count": 19,
   "metadata": {},
   "outputs": [],
   "source": [
    "#clean up local files\n",
    "#ATTENTION: DO NOT EXECTUTE BEFORE DOWNLOADING FILES\n",
    "!rm -rf sample_*"
   ]
  },
  {
   "cell_type": "code",
   "execution_count": null,
   "metadata": {},
   "outputs": [],
   "source": [
    "!ls"
   ]
  },
  {
   "cell_type": "markdown",
   "metadata": {},
   "source": [
    "## Dataset Statistics"
   ]
  },
  {
   "cell_type": "code",
   "execution_count": 16,
   "metadata": {},
   "outputs": [
    {
     "name": "stdout",
     "output_type": "stream",
     "text": [
      "Generating visualizations for train\n",
      "Showing plots for the number of present domains\n"
     ]
    },
    {
     "data": {
      "image/png": "[encoded data removed]",
      "text/plain": [
       "<Figure size 1440x360 with 2 Axes>"
      ]
     },
     "metadata": {
      "needs_background": "light"
     },
     "output_type": "display_data"
    },
    {
     "name": "stdout",
     "output_type": "stream",
     "text": [
      "Showing plots for the number of hashtags\n"
     ]
    },
    {
     "data": {
      "image/png": "[encoded data removed]",
      "text/plain": [
       "<Figure size 1440x360 with 2 Axes>"
      ]
     },
     "metadata": {
      "needs_background": "light"
     },
     "output_type": "display_data"
    },
    {
     "name": "stdout",
     "output_type": "stream",
     "text": [
      "Showing plots for present media:\n"
     ]
    },
    {
     "data": {
      "image/png": "[encoded data removed]",
      "text/plain": [
       "<Figure size 1440x360 with 2 Axes>"
      ]
     },
     "metadata": {
      "needs_background": "light"
     },
     "output_type": "display_data"
    },
    {
     "name": "stdout",
     "output_type": "stream",
     "text": [
      "Showing plots for languages:\n"
     ]
    },
    {
     "data": {
      "image/png": "[encoded data removed]",
      "text/plain": [
       "<Figure size 1440x360 with 2 Axes>"
      ]
     },
     "metadata": {
      "needs_background": "light"
     },
     "output_type": "display_data"
    },
    {
     "name": "stdout",
     "output_type": "stream",
     "text": [
      "Showing plot for tweet types:\n",
      "Showing plots for labels:\n"
     ]
    },
    {
     "data": {
      "image/png": "[encoded data removed]",
      "text/plain": [
       "<Figure size 1440x360 with 2 Axes>"
      ]
     },
     "metadata": {
      "needs_background": "light"
     },
     "output_type": "display_data"
    }
   ],
   "source": [
    "import matplotlib.pyplot as plt\n",
    "import numpy as np\n",
    "import PIL\n",
    "import io\n",
    "from PIL import Image\n",
    "\n",
    "def buffer_plot_and_get(fig):\n",
    "    buf = io.BytesIO()\n",
    "    fig.savefig(buf)\n",
    "    buf.seek(0)\n",
    "    return PIL.Image.open(buf)\n",
    "\n",
    "#sets the figsize for all plots\n",
    "plt.rcParams[\"figure.figsize\"] = (20,5)\n",
    "\n",
    "@udf\n",
    "def count_entries(s):\n",
    "    if s is not None:\n",
    "      return len(s.split('\\t'))\n",
    "    else:\n",
    "      return 0\n",
    "\n",
    "def convert_number_to_label(number):\n",
    "    #returns 1 if the respective value is not None and 0 otherwise, used to convert the interaction labels\n",
    "    if number is not None and number is not np.nan:\n",
    "        return 1\n",
    "    else:\n",
    "        return 0\n",
    "\n",
    "def count_media_types(s):\n",
    "    gif_count=s.count('GIF')\n",
    "    photo_count=s.count('Photo')\n",
    "    video_count=s.count('Video')\n",
    "    return_str=''\n",
    "    if gif_count != 0:\n",
    "        return_str = return_str + f'GIF: {gif_count} '\n",
    "    if video_count != 0:\n",
    "        return_str = return_str + f'Video: {video_count} '\n",
    "    if photo_count !=0:\n",
    "        return_str = return_str + f'Photo: {photo_count} '\n",
    "    if photo_count + video_count + gif_count == 0:\n",
    "        return_str = 'No Media'\n",
    "    \n",
    "    assert return_str != ''\n",
    "    \n",
    "    return return_str\n",
    "\n",
    "\n",
    "    \n",
    "def compute_dataset_statistics(dataset, dataset_name, palette='deep', color='#000000'):\n",
    "    \"\"\"\n",
    "    will compute statistical measures and generate plots for the dataset given above\n",
    "    \"\"\"\n",
    "    \n",
    "    print(f'Generating visualizations for {dataset_name}')\n",
    "    \n",
    "    language_counts=dataset.groupBy('language').count().orderBy('count').toPandas()\n",
    "    present_domains=dataset.groupBy('present_domains').count().orderBy('count').toPandas()\n",
    "    present_media_counts=dataset.groupBy('present_media').count().orderBy('count').toPandas().fillna('No Media')\n",
    "    tweet_type_counts=dataset.groupBy('tweet_type').count().orderBy('count').toPandas()\n",
    "    \n",
    "    #truncates language hashes\n",
    "    language_counts['language']=language_counts['language'].apply(lambda x: x[0:3]+\"...\")\n",
    "    #enhances media type appearance\n",
    "    present_media_counts['present_media']=present_media_counts['present_media'].apply(lambda x: count_media_types(x))\n",
    "    \n",
    "    #specially assorted columns\n",
    "    present_domains_counts=dataset.withColumn('present_domains_counts', count_entries(dataset.present_domains))\\\n",
    "        .groupBy('present_domains_counts').count().orderBy('count').toPandas()\n",
    "    \n",
    "    present_hashtags_counts=dataset.withColumn('present_hashtags_counts',count_entries(dataset.hashtags))\\\n",
    "        .groupBy('present_hashtags_counts').count().orderBy('count').toPandas()\n",
    "    \n",
    "    label_creator = udf(convert_number_to_label, IntegerType()) # if the function returns an int\n",
    "\n",
    "    for label in  [\"reply_timestamp\" ,\"retweet_timestamp\" ,\"retweet_with_comment_timestamp\", \"like_timestamp\"]:\n",
    "        #according to https://stackoverflow.com/questions/57047140/clone-deep-copy-a-spark-dataframe/57047204 dataframes are immutable\n",
    "        #so deep copying them is not needed for this code\n",
    "        dataset=dataset.withColumn(label.replace('_timestamp',\"\"), label_creator(label))\n",
    "        #remove the old timestamp columns again, these are no longer needed\n",
    "        dataset=dataset.drop(label)\n",
    "\n",
    "    #calculate the respective counts for all the labels in the dataset\n",
    "    like_counts=dataset.groupBy('like').count().orderBy('count').toPandas()\n",
    "    reply_counts=dataset.groupBy('reply').count().orderBy('count').toPandas()\n",
    "    retweet_counts=dataset.groupBy('retweet').count().orderBy('count').toPandas()\n",
    "    retweet_with_comment_counts=dataset.groupBy('retweet_with_comment').count().orderBy('count').toPandas()\n",
    "    total_counts=dataset.groupBy(['retweet_with_comment','like','reply','retweet']).count().orderBy('count').toPandas()\n",
    "    \n",
    "    frame_list=[]\n",
    "    for count_frame in [like_counts,reply_counts,retweet_counts,retweet_with_comment_counts]:\n",
    "        frame_list.append({'name':count_frame.iloc[:, 0].name,'label':count_frame.iloc[0][count_frame.iloc[:, 0].name],'count':count_frame.iloc[0]['count']})\n",
    "        frame_list.append({'name':count_frame.iloc[:, 0].name,'label':count_frame.iloc[1][count_frame.iloc[:, 0].name],'count':count_frame.iloc[1]['count']})\n",
    "        #seaborn.barplot(x=count_frame.iloc[:,0],y=np.log((tweet_type_counts['count'])))\n",
    "\n",
    "    merged_frame=pd.DataFrame(frame_list)\n",
    "    \n",
    "    ## Generate the plots\n",
    "    print('Showing plots for the number of present domains')\n",
    "    fig0, axs = plt.subplots(1, 2, constrained_layout=True)\n",
    "    #fig0.suptitle('Present Domains', fontsize=14, x=0.0,y=0.98,horizontalalignment='right')\n",
    "    #fig.tight_layout(rect=[1, 1, 1, 1])\n",
    "    plt1=seaborn.barplot(x=present_domains_counts['present_domains_counts'].astype(int),y=np.log(present_domains_counts['count']),palette=palette, ax=axs[0],ci=None)\n",
    "    axs[0].set_xticklabels(plt1.get_xticklabels(),rotation=90)\n",
    "    axs[0].set_title('Domains',loc='left')\n",
    "    axs[0].set_ylabel('Amount of Tweets (logarithmic scale)')\n",
    "    axs[0].set_xlabel('Number of present domains')\n",
    "    #plt.show()\n",
    "\n",
    "    plt2=seaborn.barplot(x=present_domains_counts['present_domains_counts'].astype(int),y=present_domains_counts['count'],palette=palette, ax=axs[1],ci=None)\n",
    "    axs[1].set_xticklabels(plt2.get_xticklabels(),rotation=90)\n",
    "    axs[1].set_ylabel('Amount of Tweets')\n",
    "    axs[1].set_xlabel('Number of present domains')\n",
    "    #plt.tight_layout(pad=0.4, w_pad=0.5, h_pad=1.0)\n",
    "\n",
    "    #plt.subplots_adjust(top=0.9)\n",
    "    plt.show()\n",
    "    \n",
    "    print('Showing plots for the number of hashtags')\n",
    "    fig1, axs = plt.subplots(1, 2, constrained_layout=True)\n",
    "    #fig1.suptitle('Hashtags', fontsize=14, x=0.0,y=1.02,horizontalalignment='left')\n",
    "    plt1=seaborn.barplot(x=present_hashtags_counts['present_hashtags_counts'].astype(int),y=np.log(present_hashtags_counts['count']),palette=palette,ax=axs[0],ci=None)\n",
    "    axs[0].set_xticklabels(plt1.get_xticklabels(),rotation=90)\n",
    "    axs[0].set_title('Hashtags',loc='left')\n",
    "    axs[0].set_ylabel('Amount of Tweets (logarithmic scale)')\n",
    "    axs[0].set_xlabel('Number of hashtags')\n",
    "\n",
    "    \n",
    "    plt2=seaborn.barplot(x=present_hashtags_counts['present_hashtags_counts'].astype(int),y=present_hashtags_counts['count'],palette=palette,ax=axs[1],ci=None)\n",
    "    axs[1].set_xticklabels(plt2.get_xticklabels(),rotation=90)\n",
    "    axs[1].set_ylabel('Amount of Tweets')\n",
    "    axs[1].set_xlabel('Number of hashtags')\n",
    "    \n",
    "    plt.show()\n",
    "    \n",
    "    #with log counts\n",
    "    print(\"Showing plots for present media:\")\n",
    "    fig2, axs = plt.subplots(1, 2, constrained_layout=True)\n",
    "    #fig2.suptitle('Present Media', fontsize=14, x=0.0,y=1.02,horizontalalignment='left')\n",
    "    plt1=seaborn.barplot(x=present_media_counts['present_media'],y=np.log(present_media_counts['count']),palette=palette, ax=axs[0],ci=None)\n",
    "    axs[0].set_xticklabels(plt1.get_xticklabels(),rotation=90)\n",
    "    axs[0].set_title('Media',loc='left')\n",
    "    axs[0].set_ylabel('Amount of Tweets (logarithmic scale)')\n",
    "    axs[0].set_xlabel('Present media type')\n",
    "\n",
    "    #without log counts\n",
    "    plt2=seaborn.barplot(x=present_media_counts['present_media'],y=present_media_counts['count'],palette=palette, ax=axs[1],ci=None)\n",
    "    axs[1].set_xticklabels(plt1.get_xticklabels(),rotation=90)\n",
    "    axs[1].set_ylabel('Amount of Tweets')\n",
    "    axs[1].set_xlabel('Present media type')\n",
    "    plt.show()\n",
    "    \n",
    "    print(\"Showing plots for languages:\")\n",
    "    fig3, axs = plt.subplots(1, 2, constrained_layout=True)\n",
    "    #fig3.suptitle('Languages', fontsize=14, x=0.0,y=1.02,horizontalalignment='left')\n",
    "    plt1=seaborn.barplot(x=language_counts['language'],y=np.log2(language_counts['count']),palette=palette,ax=axs[0],ci=None)\n",
    "    axs[0].set_xticklabels(plt1.get_xticklabels(),rotation=90)\n",
    "    axs[0].set_title('Languages',loc='left')\n",
    "    axs[0].set_ylabel('Amount of Tweets (logarithmic scale)')\n",
    "    axs[0].set_xlabel('Language (abbreviated hash)')\n",
    "\n",
    "\n",
    "    #use normal counts instead\n",
    "    plt2=seaborn.barplot(x=language_counts['language'],y=language_counts['count'],palette=palette,ax=axs[1],ci=None)\n",
    "    axs[1].set_xticklabels(plt1.get_xticklabels(),rotation=90)\n",
    "    axs[1].set_ylabel('Amount of Tweets')\n",
    "    axs[1].set_xlabel('Language (abbreviated hash)')\n",
    "    plt.show()\n",
    "    \n",
    "    \n",
    "    fig4, axs = plt.subplots(1, 2, constrained_layout=True)\n",
    "    #fig4.suptitle('Tweet Types and Labels', fontsize=14, x=0.0,y=1.02,horizontalalignment='left')\n",
    "    print(\"Showing plot for tweet types:\")\n",
    "    plt1=seaborn.barplot(x=tweet_type_counts['tweet_type'],y=(tweet_type_counts['count']),palette=palette,ax=axs[0],ci=None)\n",
    "    axs[0].set_ylabel('Amount of Tweets')\n",
    "    #axs[0].ticklabel_format(useOffset=False)\n",
    "    axs[0].set_title('Tweet Types',loc='center')\n",
    "    axs[0].set_xlabel('Tweet type')\n",
    "\n",
    "\n",
    "    print('Showing plots for labels:')\n",
    "    plt2=seaborn.barplot(x=merged_frame['name'],y=(merged_frame['count']),hue=merged_frame['label'],palette=palette,ax=axs[1],ci=None)\n",
    "    axs[1].set_ylabel('Amount of Tweets')\n",
    "    axs[1].set_title('Labels',loc='center')\n",
    "    axs[1].set_xlabel('Label type and engagement value')\n",
    "    plt.show()\n",
    "    \n",
    "    pils = [buffer_plot_and_get(fig) for fig in [fig0, fig1, fig2, fig3, fig4]]\n",
    "    #display(pils[0])\n",
    "    min_shape = sorted( [(np.sum(i.size), i.size ) for i in pils])[0][1]\n",
    "    imgs_comb = np.hstack( (np.asarray( i.resize(min_shape) ) for i in pils ) )\n",
    "    imgs_comb = np.vstack( (np.asarray( i.resize(min_shape) ) for i in pils ) )\n",
    "    imgs_comb = PIL.Image.fromarray( imgs_comb)\n",
    "    imgs_comb.save(f'{dataset_name}.png' )\n",
    "    \n",
    "    return {'language_counts':language_counts,'tweet:types':tweet_type_counts,'present_domains':present_domains,'present_media':present_media_counts,'label_data':{'like_counts':like_counts,'reply_counts':reply_counts,'retweet_counts':retweet_counts,'retweet_with_comment_counts':retweet_with_comment_counts,'total_counts':total_counts}}\n",
    "\n",
    "\n",
    "\n",
    "train_stat=compute_dataset_statistics(training,'train')"
   ]
  },
  {
   "cell_type": "code",
   "execution_count": null,
   "metadata": {},
   "outputs": [],
   "source": []
  },
  {
   "cell_type": "markdown",
   "metadata": {},
   "source": [
    "\n"
   ]
  }
 ],
 "metadata": {
  "kernelspec": {
   "display_name": "PySpark3",
   "language": "python",
   "name": "pyspark3kernel"
  },
  "language_info": {
   "codemirror_mode": {
    "name": "ipython",
    "version": 3
   },
   "file_extension": ".py",
   "mimetype": "text/x-python",
   "name": "python",
   "nbconvert_exporter": "python",
   "pygments_lexer": "ipython3",
   "version": "3.6.6"
  }
 },
 "nbformat": 4,
 "nbformat_minor": 2
}